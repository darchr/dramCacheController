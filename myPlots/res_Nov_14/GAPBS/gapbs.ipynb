{
 "cells": [
  {
   "cell_type": "markdown",
   "metadata": {},
   "source": [
    "These results are for HBM-stack DRAM cache (16 interface of 128-MB) backed-up by DDR4 memory (2 interface of 32-GB)."
   ]
  },
  {
   "cell_type": "code",
   "execution_count": 111,
   "metadata": {},
   "outputs": [],
   "source": [
    "import pandas as pd\n",
    "import numpy as np\n",
    "import sys\n",
    "from matplotlib import pyplot as plt\n",
    "\n",
    "import os\n",
    "\n",
    "datadir = '/scr/babaie/policyBaselineRes/hbmCtrlrBug/dramCacheController/myPlots/res_Nov_14/GAPBS/set1'\n",
    "\n",
    "\n",
    "def getStat(filename, stat):\n",
    "    filename = os.path.join(filename).replace('\\\\','/')\n",
    "    #print(stat)\n",
    "    #print(filename)\n",
    "    try:\n",
    "        x = 0\n",
    "        with open(filename) as f:\n",
    "            readlines = f.readlines()\n",
    "            for l in readlines:\n",
    "                if stat in l and x == 0:\n",
    "                    x = 1\n",
    "                elif stat in l and x == 1:\n",
    "                    return l\n",
    "            return 0.0 #for cases where stat was not found\n",
    "    except: #for cases where the file was not found\n",
    "        return 0.0\n",
    "\n",
    "\n",
    "\n",
    "Stats = ['simSeconds',\n",
    "         'hostSeconds',\n",
    "         'system.mem_ctrl.readReqs',\n",
    "         'system.mem_ctrl.writeReqs',\n",
    "         'system.mem_ctrl.servicedByWrQ',\n",
    "         'system.mem_ctrl.mergedWrBursts',\n",
    "         'system.mem_ctrl.numTotHits',\n",
    "         'system.mem_ctrl.numTotMisses',\n",
    "         'system.mem_ctrl.numColdMisses',\n",
    "         'system.mem_ctrl.numHotMisses',\n",
    "         'system.mem_ctrl.numRdMissClean',\n",
    "         'system.mem_ctrl.numRdMissDirty',\n",
    "         'system.mem_ctrl.numRdHit',\n",
    "         'system.mem_ctrl.numWrMissClean',\n",
    "         'system.mem_ctrl.numWrMissDirty',\n",
    "         'system.mem_ctrl.numWrHit',\n",
    "         'system.mem_ctrl.numRdHitDirty',\n",
    "         'system.mem_ctrl.numRdHitClean',\n",
    "         'system.mem_ctrl.numWrHitDirty',\n",
    "         'system.mem_ctrl.numWrHitClean',\n",
    "         'system.loc_mem_ctrl.dram.readBursts',\n",
    "         'system.loc_mem_ctrl.dram.writeBursts',\n",
    "         'system.far_mem_ctrl.dram.readBursts',\n",
    "         'system.far_mem_ctrl.dram.writeBursts',\n",
    "         'system.timingCpu0.exec_context.thread_0.numInsts',\n",
    "         'system.timingCpu1.exec_context.thread_0.numInsts',\n",
    "         'system.timingCpu2.exec_context.thread_0.numInsts',\n",
    "         'system.timingCpu3.exec_context.thread_0.numInsts',\n",
    "         'system.timingCpu4.exec_context.thread_0.numInsts',\n",
    "         'system.timingCpu5.exec_context.thread_0.numInsts',\n",
    "         'system.timingCpu6.exec_context.thread_0.numInsts',\n",
    "         'system.timingCpu7.exec_context.thread_0.numInsts',\n",
    "         'system.mem_ctrl.avgRdBWSys',\n",
    "         'system.mem_ctrl.avgWrBWSys',\n",
    "         'system.mem_ctrl.avgORBLen'         \n",
    "          ]\n",
    "\n",
    "\n",
    "app = ['bc', 'bfs', 'cc', 'pr', 'tc']\n",
    "\n",
    "rows = []\n",
    "\n",
    "for a in app:\n",
    "    #for t in time:\n",
    "        #for s in size:\n",
    "            #for c in cache:\n",
    "                stats = [a]\n",
    "                for stat in Stats:\n",
    "                    time_file_path = '{}/{}_22/stats.txt'.format(datadir, a)\n",
    "                    ret_line = getStat(time_file_path,stat)\n",
    "\n",
    "                    if ret_line != 0:\n",
    "                        #if ret_line=='nan' :\n",
    "                        #    stat_val = 0\n",
    "                        #else:\n",
    "                        stat_val = ret_line.split()[1]\n",
    "                    else:\n",
    "                        stat_val = -1\n",
    "                    stats.append(stat_val)\n",
    "\n",
    "                rows.append(stats)\n",
    "\n",
    "#print(rows)\n",
    "df = pd.DataFrame(rows, columns=[\n",
    "         'app',\n",
    "         'simSeconds',\n",
    "         'hostSeconds',\n",
    "         'readReqs',\n",
    "         'writeReqs',\n",
    "         'servicedByWrQ',\n",
    "         'mergedWrBursts',\n",
    "         'numTotHits',\n",
    "         'numTotMisses',\n",
    "         'numColdMisses',\n",
    "         'numHotMisses',\n",
    "         'numRdMissClean',\n",
    "         'numRdMissDirty',\n",
    "         'numRdHit',\n",
    "         'numWrMissClean',\n",
    "         'numWrMissDirty',\n",
    "         'numWrHit',\n",
    "         'numRdHitDirty',\n",
    "         'numRdHitClean',\n",
    "         'numWrHitDirty',\n",
    "         'numWrHitClean',\n",
    "         'system.loc_mem_ctrl.dram.readBursts',\n",
    "         'system.loc_mem_ctrl.dram.writeBursts',\n",
    "         'system.far_mem_ctrl.dram.readBursts',\n",
    "         'system.far_mem_ctrl.dram.writeBursts',\n",
    "         'numInsts0',\n",
    "         'numInsts1',\n",
    "         'numInsts2',\n",
    "         'numInsts3',\n",
    "         'numInsts4',\n",
    "         'numInsts5',\n",
    "         'numInsts6',\n",
    "         'numInsts7',\n",
    "         'avgRdBWSys',\n",
    "         'avgWrBWSys',\n",
    "         'avgORBLen'   \n",
    "         ])\n",
    "\n",
    "df['totNumInsts'] = df['numInsts0'].astype(int)+df['numInsts1'].astype(int)+df['numInsts2'].astype(int)+df['numInsts3'].astype(int)+df['numInsts4'].astype(int)+df['numInsts5'].astype(int)+df['numInsts6'].astype(int)+df['numInsts7'].astype(int)\n",
    "df['totBW'] = (df['avgRdBWSys'].astype(float)+df['avgWrBWSys'].astype(float))/1000000000\n",
    "df.to_csv(\"/scr/babaie/policyBaselineRes/hbmCtrlrBug/dramCacheController/myPlots/res_Nov_14/GAPBS/set1.csv\")"
   ]
  },
  {
   "cell_type": "code",
   "execution_count": 112,
   "metadata": {},
   "outputs": [],
   "source": [
    "### Set2\n",
    "\n",
    "datadir2 = '/scr/babaie/policyBaselineRes/hbmCtrlrBug/dramCacheController/myPlots/res_Nov_14/GAPBS/set2'\n",
    "\n",
    "\n",
    "Stats2 = ['simSeconds',\n",
    "         'hostSeconds',\n",
    "         'system.mem_ctrl.readReqs',\n",
    "         'system.mem_ctrl.writeReqs',\n",
    "         'system.mem_ctrl.servicedByWrQ',\n",
    "         'system.mem_ctrl.mergedWrBursts',\n",
    "         'system.mem_ctrl.numTotHits',\n",
    "         'system.mem_ctrl.numTotMisses',\n",
    "         'system.mem_ctrl.numColdMisses',\n",
    "         'system.mem_ctrl.numHotMisses',\n",
    "         'system.mem_ctrl.numRdMissClean',\n",
    "         'system.mem_ctrl.numRdMissDirty',\n",
    "         'system.mem_ctrl.numRdHit',\n",
    "         'system.mem_ctrl.numWrMissClean',\n",
    "         'system.mem_ctrl.numWrMissDirty',\n",
    "         'system.mem_ctrl.numWrHit',\n",
    "         'system.mem_ctrl.numRdHitDirty',\n",
    "         'system.mem_ctrl.numRdHitClean',\n",
    "         'system.mem_ctrl.numWrHitDirty',\n",
    "         'system.mem_ctrl.numWrHitClean',\n",
    "         'system.timingCpu0.exec_context.thread_0.numInsts',\n",
    "         'system.timingCpu1.exec_context.thread_0.numInsts',\n",
    "         'system.timingCpu2.exec_context.thread_0.numInsts',\n",
    "         'system.timingCpu3.exec_context.thread_0.numInsts',\n",
    "         'system.timingCpu4.exec_context.thread_0.numInsts',\n",
    "         'system.timingCpu5.exec_context.thread_0.numInsts',\n",
    "         'system.timingCpu6.exec_context.thread_0.numInsts',\n",
    "         'system.timingCpu7.exec_context.thread_0.numInsts',\n",
    "         'system.mem_ctrl.avgRdBWSys',\n",
    "         'system.mem_ctrl.avgWrBWSys',\n",
    "         'system.mem_ctrl.avgORBLen'         \n",
    "          ]\n",
    "\n",
    "\n",
    "app = ['bc', 'bfs', 'cc', 'pr', 'tc']\n",
    "\n",
    "rows = []\n",
    "\n",
    "for a in app:\n",
    "    #for t in time:\n",
    "        #for s in size:\n",
    "            #for c in cache:\n",
    "                stats = [a]\n",
    "                for stat in Stats2:\n",
    "                    time_file_path = '{}/{}_22/stats.txt'.format(datadir2, a)\n",
    "                    ret_line = getStat(time_file_path,stat)\n",
    "\n",
    "                    if ret_line != 0:\n",
    "                        #if ret_line=='nan' :\n",
    "                        #    stat_val = 0\n",
    "                        #else:\n",
    "                        stat_val = ret_line.split()[1]\n",
    "                    else:\n",
    "                        stat_val = -1\n",
    "                    stats.append(stat_val)\n",
    "\n",
    "                rows.append(stats)\n",
    "\n",
    "#print(rows)\n",
    "df2 = pd.DataFrame(rows, columns=[\n",
    "         'app',\n",
    "         'simSeconds',\n",
    "         'hostSeconds',\n",
    "         'readReqs',\n",
    "         'writeReqs',\n",
    "         'servicedByWrQ',\n",
    "         'mergedWrBursts',\n",
    "         'numTotHits',\n",
    "         'numTotMisses',\n",
    "         'numColdMisses',\n",
    "         'numHotMisses',\n",
    "         'numRdMissClean',\n",
    "         'numRdMissDirty',\n",
    "         'numRdHit',\n",
    "         'numWrMissClean',\n",
    "         'numWrMissDirty',\n",
    "         'numWrHit',\n",
    "         'numRdHitDirty',\n",
    "         'numRdHitClean',\n",
    "         'numWrHitDirty',\n",
    "         'numWrHitClean',\n",
    "         'numInsts0',\n",
    "         'numInsts1',\n",
    "         'numInsts2',\n",
    "         'numInsts3',\n",
    "         'numInsts4',\n",
    "         'numInsts5',\n",
    "         'numInsts6',\n",
    "         'numInsts7',\n",
    "         'avgRdBWSys',\n",
    "         'avgWrBWSys',\n",
    "         'avgORBLen'   \n",
    "         ])\n",
    "\n",
    "df2['totNumInsts'] = df2['numInsts0'].astype(int)+df2['numInsts1'].astype(int)+df2['numInsts2'].astype(int)+df2['numInsts3'].astype(int)+df2['numInsts4'].astype(int)+df2['numInsts5'].astype(int)+df2['numInsts6'].astype(int)+df2['numInsts7'].astype(int)\n",
    "df2['totBW'] = (df2['avgRdBWSys'].astype(float)+df2['avgWrBWSys'].astype(float))/1000000000\n",
    "df2.to_csv(\"/scr/babaie/policyBaselineRes/hbmCtrlrBug/dramCacheController/myPlots/res_Nov_14/GAPBS/set2.csv\")"
   ]
  },
  {
   "cell_type": "code",
   "execution_count": 113,
   "metadata": {},
   "outputs": [
    {
     "data": {
      "image/png": "[encoded data removed]",
      "text/plain": [
       "<Figure size 432x288 with 1 Axes>"
      ]
     },
     "metadata": {
      "needs_background": "light"
     },
     "output_type": "display_data"
    }
   ],
   "source": [
    "x = df['app']\n",
    "\n",
    "y = df['avgORBLen'].astype(float)\n",
    "\n",
    "# Multi bar Chart\n",
    "fig = plt.figure()\n",
    "fig.set_size_inches(6, 4)\n",
    "\n",
    "plt.ylim([0,10])\n",
    "\n",
    "plt.bar(x, y)\n",
    "\n",
    "\n",
    "plt.title(\"Average Outstanding Requests Buffer Size\")\n",
    "plt.xlabel(\"Workloads\")\n",
    "plt.ylabel(\"ORB Size (count)\")\n",
    "plt.show()"
   ]
  },
  {
   "cell_type": "code",
   "execution_count": 114,
   "metadata": {},
   "outputs": [
    {
     "data": {
      "image/png": "[encoded data removed]",
      "text/plain": [
       "<Figure size 432x288 with 1 Axes>"
      ]
     },
     "metadata": {
      "needs_background": "light"
     },
     "output_type": "display_data"
    }
   ],
   "source": [
    "x = df['app']\n",
    "\n",
    "y = (df['readReqs'].astype(float) + df['writeReqs'].astype(float))*64/1000000000 / df['simSeconds'].astype(float)\n",
    "\n",
    "# Multi bar Chart\n",
    "fig = plt.figure()\n",
    "fig.set_size_inches(6, 4)\n",
    "\n",
    "plt.ylim([0,5])\n",
    "\n",
    "plt.bar(x, y)\n",
    "\n",
    "\n",
    "plt.title(\"Injection Rate of Requests Received by DRAM Cache\")\n",
    "plt.xlabel(\"Workloads\")\n",
    "plt.ylabel(\"Injection Rate (GB/s)\")\n",
    "plt.show()"
   ]
  },
  {
   "cell_type": "code",
   "execution_count": 124,
   "metadata": {},
   "outputs": [
    {
     "data": {
      "image/png": "[encoded data removed]",
      "text/plain": [
       "<Figure size 432x288 with 1 Axes>"
      ]
     },
     "metadata": {
      "needs_background": "light"
     },
     "output_type": "display_data"
    }
   ],
   "source": [
    "x = df['app']\n",
    "\n",
    "y = df['totBW'].astype(float)\n",
    "\n",
    "# Multi bar Chart\n",
    "fig = plt.figure()\n",
    "fig.set_size_inches(6, 4)\n",
    "\n",
    "plt.ylim([0,7])\n",
    "\n",
    "plt.bar(x, y)\n",
    "\n",
    "\n",
    "plt.title(\"Total BW Observed by the LLC\")\n",
    "plt.xlabel(\"Workloads\")\n",
    "plt.ylabel(\"BW (GB/s)\")\n",
    "plt.show()"
   ]
  },
  {
   "cell_type": "code",
   "execution_count": 127,
   "metadata": {},
   "outputs": [
    {
     "data": {
      "image/png": "[encoded data removed]",
      "text/plain": [
       "<Figure size 432x288 with 1 Axes>"
      ]
     },
     "metadata": {
      "needs_background": "light"
     },
     "output_type": "display_data"
    }
   ],
   "source": [
    "x = df['app']\n",
    "\n",
    "y = df2['totBW'].astype(float)\n",
    "\n",
    "# Multi bar Chart\n",
    "fig = plt.figure()\n",
    "fig.set_size_inches(6, 4)\n",
    "\n",
    "plt.ylim([0,7])\n",
    "\n",
    "plt.bar(x, y)\n",
    "\n",
    "\n",
    "plt.title(\"Total BW Observed by the LLC\")\n",
    "plt.xlabel(\"Workloads\")\n",
    "plt.ylabel(\"BW (GB/s)\")\n",
    "plt.show()"
   ]
  },
  {
   "cell_type": "code",
   "execution_count": 116,
   "metadata": {},
   "outputs": [
    {
     "data": {
      "image/png": "[encoded data removed]",
      "text/plain": [
       "<Figure size 432x288 with 1 Axes>"
      ]
     },
     "metadata": {
      "needs_background": "light"
     },
     "output_type": "display_data"
    }
   ],
   "source": [
    "x = df['app']\n",
    "\n",
    "y = (df['totNumInsts'].astype(float)/1000000000)/df['simSeconds'].astype(float)\n",
    "\n",
    "\n",
    "# Multi bar Chart\n",
    "fig = plt.figure()\n",
    "fig.set_size_inches(6, 4)\n",
    "\n",
    "#plt.ylim([0,5])\n",
    "\n",
    "plt.bar(x, y)\n",
    "\n",
    "\n",
    "plt.title(\"Billion Instructions per Second\")\n",
    "plt.xlabel(\"Workloads\")\n",
    "plt.ylabel(\"BIPS (count/sec)\")\n",
    "plt.show()"
   ]
  },
  {
   "cell_type": "code",
   "execution_count": 117,
   "metadata": {},
   "outputs": [
    {
     "data": {
      "image/png": "[encoded data removed]",
      "text/plain": [
       "<Figure size 432x288 with 1 Axes>"
      ]
     },
     "metadata": {
      "needs_background": "light"
     },
     "output_type": "display_data"
    }
   ],
   "source": [
    "x = df['app']\n",
    "\n",
    "y = df['numHotMisses'].astype(float)/(df['totNumInsts'].astype(float)/1000)\n",
    "\n",
    "\n",
    "# Multi bar Chart\n",
    "fig = plt.figure()\n",
    "fig.set_size_inches(6, 4)\n",
    "\n",
    "#plt.ylim([0,5])\n",
    "\n",
    "plt.bar(x, y)\n",
    "\n",
    "\n",
    "plt.title(\"Misses per 1000 Instructions\")\n",
    "plt.xlabel(\"Workloads\")\n",
    "plt.ylabel(\"MPKI (count)\")\n",
    "plt.show()"
   ]
  },
  {
   "cell_type": "markdown",
   "metadata": {},
   "source": [
    "*******************************************************************"
   ]
  },
  {
   "cell_type": "code",
   "execution_count": 118,
   "metadata": {},
   "outputs": [
    {
     "data": {
      "image/png": "[encoded data removed]",
      "text/plain": [
       "<Figure size 432x288 with 1 Axes>"
      ]
     },
     "metadata": {
      "needs_background": "light"
     },
     "output_type": "display_data"
    }
   ],
   "source": [
    "x = df['app']\n",
    "\n",
    "y1 = df['system.loc_mem_ctrl.dram.readBursts'].astype(float) / (df['readReqs'].astype(float)+df['writeReqs'].astype(float))\n",
    "y2 = df['system.loc_mem_ctrl.dram.writeBursts'].astype(float) / (df['readReqs'].astype(float)+df['writeReqs'].astype(float))\n",
    "y3 = df['system.far_mem_ctrl.dram.readBursts'].astype(float) / (df['readReqs'].astype(float)+df['writeReqs'].astype(float))\n",
    "y4 = df['system.far_mem_ctrl.dram.writeBursts'].astype(float) / (df['readReqs'].astype(float)+df['writeReqs'].astype(float))\n",
    "\n",
    "# Multi bar Chart\n",
    "fig = plt.figure()\n",
    "fig.set_size_inches(6, 4)\n",
    "\n",
    "plt.ylim([0,4.5])\n",
    "\n",
    "plt.bar(x, y1, label = 'Loc Read')\n",
    "plt.bar(x, y2, bottom=y1, label = 'Loc Write')\n",
    "plt.bar(x, y3, bottom=y1+y2, label = 'Far Read')\n",
    "plt.bar(x, y4, bottom=y1+y2+y3, label = 'Far Write')\n",
    "\n",
    "plt.title(\"Access Amplification by the Old Design\")\n",
    "plt.xlabel(\"Workloads\")\n",
    "plt.ylabel(\"Access Amplification\")\n",
    "plt.legend()\n",
    "plt.show()"
   ]
  },
  {
   "cell_type": "code",
   "execution_count": 119,
   "metadata": {},
   "outputs": [
    {
     "data": {
      "image/png": "[encoded data removed]",
      "text/plain": [
       "<Figure size 432x288 with 1 Axes>"
      ]
     },
     "metadata": {
      "needs_background": "light"
     },
     "output_type": "display_data"
    }
   ],
   "source": [
    "x = df['app']\n",
    "\n",
    "y1 = df['numRdHitClean'].astype(int)/(df['readReqs'].astype(int)+df['writeReqs'].astype(int))\n",
    "y2 = df['numRdHitDirty'].astype(int)/(df['readReqs'].astype(int)+df['writeReqs'].astype(int))\n",
    "y3 = df['numWrHitClean'].astype(int)/(df['readReqs'].astype(int)+df['writeReqs'].astype(int))\n",
    "y4 = df['numWrHitDirty'].astype(int)/(df['readReqs'].astype(int)+df['writeReqs'].astype(int))\n",
    "\n",
    "y5 = df['numRdMissClean'].astype(int)/(df['readReqs'].astype(int)+df['writeReqs'].astype(int))\n",
    "y6 = df['numRdMissDirty'].astype(int)/(df['readReqs'].astype(int)+df['writeReqs'].astype(int))\n",
    "y7 = df['numWrMissClean'].astype(int)/(df['readReqs'].astype(int)+df['writeReqs'].astype(int))\n",
    "y8 = df['numWrMissDirty'].astype(int)/(df['readReqs'].astype(int)+df['writeReqs'].astype(int))\n",
    "\n",
    "y11 = y1+y2+y6+y8\n",
    "y22 = y5+y6+y3+y4+y7+y8\n",
    "y33 = y5+y6\n",
    "y44 = y8+y6\n",
    "\n",
    "# Multi bar Chart\n",
    "fig = plt.figure()\n",
    "fig.set_size_inches(6, 4)\n",
    "\n",
    "plt.ylim([0,4.5])\n",
    "\n",
    "plt.bar(x, y11, label = 'Loc Read')\n",
    "plt.bar(x, y22, bottom=y11, label = 'Loc Write')\n",
    "plt.bar(x, y33, bottom=y11+y22, label = 'Far Read')\n",
    "plt.bar(x, y44, bottom=y11+y22+y33, label = 'Far Write')\n",
    "\n",
    "plt.title(\"Expected Access Amplification by the New Design\")\n",
    "plt.xlabel(\"Workloads\")\n",
    "plt.ylabel(\"Access Amplification\")\n",
    "plt.legend()\n",
    "plt.show()"
   ]
  },
  {
   "cell_type": "code",
   "execution_count": 120,
   "metadata": {},
   "outputs": [
    {
     "data": {
      "image/png": "[encoded data removed]",
      "text/plain": [
       "<Figure size 432x288 with 1 Axes>"
      ]
     },
     "metadata": {
      "needs_background": "light"
     },
     "output_type": "display_data"
    }
   ],
   "source": [
    "x = df['app']\n",
    "\n",
    "y1 = 100*df['numRdHitClean'].astype(int)/(df['readReqs'].astype(int)+df['writeReqs'].astype(int))\n",
    "y2 = 100*df['numRdHitDirty'].astype(int)/(df['readReqs'].astype(int)+df['writeReqs'].astype(int))\n",
    "y3 = 100*df['numWrHitClean'].astype(int)/(df['readReqs'].astype(int)+df['writeReqs'].astype(int))\n",
    "y4 = 100*df['numWrHitDirty'].astype(int)/(df['readReqs'].astype(int)+df['writeReqs'].astype(int))\n",
    "\n",
    "# Multi bar Chart\n",
    "fig = plt.figure()\n",
    "fig.set_size_inches(6, 4)\n",
    "\n",
    "plt.ylim([0,150])\n",
    "\n",
    "plt.bar(x, y1, label = 'Read Clean')\n",
    "plt.bar(x, y2, bottom=y1, label = 'Read Dirty')\n",
    "plt.bar(x, y3, bottom=y1+y2, label = 'Write Clean')\n",
    "plt.bar(x, y4, bottom=y1+y2+y3, label = 'Write Dirty')\n",
    "\n",
    "plt.title(\"Distribution of Hit Accesses\")\n",
    "plt.xlabel(\"Workloads\")\n",
    "plt.ylabel(\"Percentage of Total Accesses\")\n",
    "plt.legend()\n",
    "plt.show()"
   ]
  },
  {
   "cell_type": "code",
   "execution_count": 121,
   "metadata": {},
   "outputs": [
    {
     "ename": "KeyError",
     "evalue": "'system.mem_ctrl.numColdMisses'",
     "output_type": "error",
     "traceback": [
      "\u001b[0;31m---------------------------------------------------------------------------\u001b[0m",
      "\u001b[0;31mKeyError\u001b[0m                                  Traceback (most recent call last)",
      "File \u001b[0;32m~/.local/lib/python3.8/site-packages/pandas/core/indexes/base.py:3621\u001b[0m, in \u001b[0;36mIndex.get_loc\u001b[0;34m(self, key, method, tolerance)\u001b[0m\n\u001b[1;32m   3620\u001b[0m \u001b[39mtry\u001b[39;00m:\n\u001b[0;32m-> 3621\u001b[0m     \u001b[39mreturn\u001b[39;00m \u001b[39mself\u001b[39;49m\u001b[39m.\u001b[39;49m_engine\u001b[39m.\u001b[39;49mget_loc(casted_key)\n\u001b[1;32m   3622\u001b[0m \u001b[39mexcept\u001b[39;00m \u001b[39mKeyError\u001b[39;00m \u001b[39mas\u001b[39;00m err:\n",
      "File \u001b[0;32m~/.local/lib/python3.8/site-packages/pandas/_libs/index.pyx:136\u001b[0m, in \u001b[0;36mpandas._libs.index.IndexEngine.get_loc\u001b[0;34m()\u001b[0m\n",
      "File \u001b[0;32m~/.local/lib/python3.8/site-packages/pandas/_libs/index.pyx:163\u001b[0m, in \u001b[0;36mpandas._libs.index.IndexEngine.get_loc\u001b[0;34m()\u001b[0m\n",
      "File \u001b[0;32mpandas/_libs/hashtable_class_helper.pxi:5198\u001b[0m, in \u001b[0;36mpandas._libs.hashtable.PyObjectHashTable.get_item\u001b[0;34m()\u001b[0m\n",
      "File \u001b[0;32mpandas/_libs/hashtable_class_helper.pxi:5206\u001b[0m, in \u001b[0;36mpandas._libs.hashtable.PyObjectHashTable.get_item\u001b[0;34m()\u001b[0m\n",
      "\u001b[0;31mKeyError\u001b[0m: 'system.mem_ctrl.numColdMisses'",
      "\nThe above exception was the direct cause of the following exception:\n",
      "\u001b[0;31mKeyError\u001b[0m                                  Traceback (most recent call last)",
      "\u001b[1;32m/scr/babaie/policyBaselineRes/hbmCtrlrBug/dramCacheController/myPlots/res_Nov_14/GAPBS/gapbs.ipynb Cell 13\u001b[0m in \u001b[0;36m<module>\u001b[0;34m\u001b[0m\n\u001b[1;32m      <a href='vscode-notebook-cell://ssh-remote%2Bchallenger.cs.ucdavis.edu/scr/babaie/policyBaselineRes/hbmCtrlrBug/dramCacheController/myPlots/res_Nov_14/GAPBS/gapbs.ipynb#W6sdnNjb2RlLXJlbW90ZQ%3D%3D?line=0'>1</a>\u001b[0m x \u001b[39m=\u001b[39m df[\u001b[39m'\u001b[39m\u001b[39mapp\u001b[39m\u001b[39m'\u001b[39m]\n\u001b[0;32m----> <a href='vscode-notebook-cell://ssh-remote%2Bchallenger.cs.ucdavis.edu/scr/babaie/policyBaselineRes/hbmCtrlrBug/dramCacheController/myPlots/res_Nov_14/GAPBS/gapbs.ipynb#W6sdnNjb2RlLXJlbW90ZQ%3D%3D?line=2'>3</a>\u001b[0m y1 \u001b[39m=\u001b[39m \u001b[39m100\u001b[39m \u001b[39m*\u001b[39m df[\u001b[39m'\u001b[39;49m\u001b[39msystem.mem_ctrl.numColdMisses\u001b[39;49m\u001b[39m'\u001b[39;49m]\u001b[39m.\u001b[39mastype(\u001b[39mint\u001b[39m)\u001b[39m/\u001b[39m(df[\u001b[39m'\u001b[39m\u001b[39mreadReqs\u001b[39m\u001b[39m'\u001b[39m]\u001b[39m.\u001b[39mastype(\u001b[39mint\u001b[39m)\u001b[39m+\u001b[39mdf[\u001b[39m'\u001b[39m\u001b[39mwriteReqs\u001b[39m\u001b[39m'\u001b[39m]\u001b[39m.\u001b[39mastype(\u001b[39mint\u001b[39m))\n\u001b[1;32m      <a href='vscode-notebook-cell://ssh-remote%2Bchallenger.cs.ucdavis.edu/scr/babaie/policyBaselineRes/hbmCtrlrBug/dramCacheController/myPlots/res_Nov_14/GAPBS/gapbs.ipynb#W6sdnNjb2RlLXJlbW90ZQ%3D%3D?line=3'>4</a>\u001b[0m y2 \u001b[39m=\u001b[39m \u001b[39m100\u001b[39m \u001b[39m*\u001b[39m (df[\u001b[39m'\u001b[39m\u001b[39mnumRdMissClean\u001b[39m\u001b[39m'\u001b[39m]\u001b[39m.\u001b[39mastype(\u001b[39mint\u001b[39m)\u001b[39m-\u001b[39mdf[\u001b[39m'\u001b[39m\u001b[39msystem.mem_ctrl.numColdMisses\u001b[39m\u001b[39m'\u001b[39m]\u001b[39m.\u001b[39mastype(\u001b[39mint\u001b[39m))\u001b[39m/\u001b[39m(df[\u001b[39m'\u001b[39m\u001b[39mreadReqs\u001b[39m\u001b[39m'\u001b[39m]\u001b[39m.\u001b[39mastype(\u001b[39mint\u001b[39m)\u001b[39m+\u001b[39mdf[\u001b[39m'\u001b[39m\u001b[39mwriteReqs\u001b[39m\u001b[39m'\u001b[39m]\u001b[39m.\u001b[39mastype(\u001b[39mint\u001b[39m))\n\u001b[1;32m      <a href='vscode-notebook-cell://ssh-remote%2Bchallenger.cs.ucdavis.edu/scr/babaie/policyBaselineRes/hbmCtrlrBug/dramCacheController/myPlots/res_Nov_14/GAPBS/gapbs.ipynb#W6sdnNjb2RlLXJlbW90ZQ%3D%3D?line=4'>5</a>\u001b[0m y3 \u001b[39m=\u001b[39m \u001b[39m100\u001b[39m \u001b[39m*\u001b[39m df[\u001b[39m'\u001b[39m\u001b[39mnumRdMissDirty\u001b[39m\u001b[39m'\u001b[39m]\u001b[39m.\u001b[39mastype(\u001b[39mint\u001b[39m)\u001b[39m/\u001b[39m(df[\u001b[39m'\u001b[39m\u001b[39mreadReqs\u001b[39m\u001b[39m'\u001b[39m]\u001b[39m.\u001b[39mastype(\u001b[39mint\u001b[39m)\u001b[39m+\u001b[39mdf[\u001b[39m'\u001b[39m\u001b[39mwriteReqs\u001b[39m\u001b[39m'\u001b[39m]\u001b[39m.\u001b[39mastype(\u001b[39mint\u001b[39m))\n",
      "File \u001b[0;32m~/.local/lib/python3.8/site-packages/pandas/core/frame.py:3505\u001b[0m, in \u001b[0;36mDataFrame.__getitem__\u001b[0;34m(self, key)\u001b[0m\n\u001b[1;32m   3503\u001b[0m \u001b[39mif\u001b[39;00m \u001b[39mself\u001b[39m\u001b[39m.\u001b[39mcolumns\u001b[39m.\u001b[39mnlevels \u001b[39m>\u001b[39m \u001b[39m1\u001b[39m:\n\u001b[1;32m   3504\u001b[0m     \u001b[39mreturn\u001b[39;00m \u001b[39mself\u001b[39m\u001b[39m.\u001b[39m_getitem_multilevel(key)\n\u001b[0;32m-> 3505\u001b[0m indexer \u001b[39m=\u001b[39m \u001b[39mself\u001b[39;49m\u001b[39m.\u001b[39;49mcolumns\u001b[39m.\u001b[39;49mget_loc(key)\n\u001b[1;32m   3506\u001b[0m \u001b[39mif\u001b[39;00m is_integer(indexer):\n\u001b[1;32m   3507\u001b[0m     indexer \u001b[39m=\u001b[39m [indexer]\n",
      "File \u001b[0;32m~/.local/lib/python3.8/site-packages/pandas/core/indexes/base.py:3623\u001b[0m, in \u001b[0;36mIndex.get_loc\u001b[0;34m(self, key, method, tolerance)\u001b[0m\n\u001b[1;32m   3621\u001b[0m     \u001b[39mreturn\u001b[39;00m \u001b[39mself\u001b[39m\u001b[39m.\u001b[39m_engine\u001b[39m.\u001b[39mget_loc(casted_key)\n\u001b[1;32m   3622\u001b[0m \u001b[39mexcept\u001b[39;00m \u001b[39mKeyError\u001b[39;00m \u001b[39mas\u001b[39;00m err:\n\u001b[0;32m-> 3623\u001b[0m     \u001b[39mraise\u001b[39;00m \u001b[39mKeyError\u001b[39;00m(key) \u001b[39mfrom\u001b[39;00m \u001b[39merr\u001b[39;00m\n\u001b[1;32m   3624\u001b[0m \u001b[39mexcept\u001b[39;00m \u001b[39mTypeError\u001b[39;00m:\n\u001b[1;32m   3625\u001b[0m     \u001b[39m# If we have a listlike key, _check_indexing_error will raise\u001b[39;00m\n\u001b[1;32m   3626\u001b[0m     \u001b[39m#  InvalidIndexError. Otherwise we fall through and re-raise\u001b[39;00m\n\u001b[1;32m   3627\u001b[0m     \u001b[39m#  the TypeError.\u001b[39;00m\n\u001b[1;32m   3628\u001b[0m     \u001b[39mself\u001b[39m\u001b[39m.\u001b[39m_check_indexing_error(key)\n",
      "\u001b[0;31mKeyError\u001b[0m: 'system.mem_ctrl.numColdMisses'"
     ]
    }
   ],
   "source": [
    "x = df['app']\n",
    "\n",
    "y1 = 100 * df['system.mem_ctrl.numColdMisses'].astype(int)/(df['readReqs'].astype(int)+df['writeReqs'].astype(int))\n",
    "y2 = 100 * (df['numRdMissClean'].astype(int)-df['system.mem_ctrl.numColdMisses'].astype(int))/(df['readReqs'].astype(int)+df['writeReqs'].astype(int))\n",
    "y3 = 100 * df['numRdMissDirty'].astype(int)/(df['readReqs'].astype(int)+df['writeReqs'].astype(int))\n",
    "y4 = 100 * df['numWrMissClean'].astype(int)/(df['readReqs'].astype(int)+df['writeReqs'].astype(int))\n",
    "y5 = 100 * df['numWrMissDirty'].astype(int)/(df['readReqs'].astype(int)+df['writeReqs'].astype(int))\n",
    "\n",
    "# Multi bar Chart\n",
    "fig = plt.figure()\n",
    "fig.set_size_inches(6, 4)\n",
    "\n",
    "plt.ylim([0,120])\n",
    "\n",
    "plt.bar(x, y1, label = 'Cold Misses', color='gray')\n",
    "plt.bar(x, y2, bottom=y1, label = 'Read Clean')\n",
    "plt.bar(x, y3, bottom=y1+y2,label = 'Read Dirty')\n",
    "plt.bar(x, y4, bottom=y1+y2+y3, label = 'Write Clean')\n",
    "plt.bar(x, y5, bottom=y1+y2+y3+y4, label = 'Write Dirty')\n",
    "\n",
    "plt.title(\"Distribution of Miss Accesses\")\n",
    "plt.xlabel(\"Workloads\")\n",
    "plt.ylabel(\"Percentage of Total Accesses\")\n",
    "plt.legend()\n",
    "plt.show()"
   ]
  }
 ],
 "metadata": {
  "kernelspec": {
   "display_name": "Python 3.8.10 64-bit",
   "language": "python",
   "name": "python3"
  },
  "language_info": {
   "codemirror_mode": {
    "name": "ipython",
    "version": 3
   },
   "file_extension": ".py",
   "mimetype": "text/x-python",
   "name": "python",
   "nbconvert_exporter": "python",
   "pygments_lexer": "ipython3",
   "version": "3.8.10"
  },
  "orig_nbformat": 4,
  "vscode": {
   "interpreter": {
    "hash": "e7370f93d1d0cde622a1f8e1c04877d8463912d04d973331ad4851f04de6915a"
   }
  }
 },
 "nbformat": 4,
 "nbformat_minor": 2
}
