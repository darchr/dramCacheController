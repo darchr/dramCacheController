{
 "cells": [
  {
   "cell_type": "markdown",
   "metadata": {},
   "source": [
    "These results are for HBM-stack DRAM cache (16 interface of 128-MB) backed-up by DDR4 memory (2 interface of 32-GB)."
   ]
  },
  {
   "cell_type": "code",
   "execution_count": 1,
   "metadata": {},
   "outputs": [],
   "source": [
    "import pandas as pd\n",
    "import numpy as np\n",
    "import sys\n",
    "from matplotlib import pyplot as plt\n",
    "\n",
    "import os\n",
    "\n",
    "datadir = '/scr/babaie/policyBaselineRes/3rd/dramCacheController/results'\n",
    "\n",
    "\n",
    "def getStat(filename, stat):\n",
    "    filename = os.path.join(filename).replace('\\\\','/')\n",
    "    #print(stat)\n",
    "    #print(filename)\n",
    "    try:\n",
    "        with open(filename) as f:\n",
    "            readlines = f.readlines()\n",
    "            for l in readlines:\n",
    "                if stat in l:\n",
    "                    return l\n",
    "            return 0.0 #for cases where stat was not found\n",
    "    except: #for cases where the file was not found\n",
    "        return 0.0\n",
    "\n",
    "\n",
    "\n",
    "Stats = ['system.mem_ctrl.readReqs',\n",
    "         'system.mem_ctrl.writeReqs',\n",
    "         'system.mem_ctrl.servicedByWrQ',\n",
    "         'system.mem_ctrl.mergedWrBursts',\n",
    "         'system.mem_ctrl.numTotHits',\n",
    "         'system.mem_ctrl.numTotMisses',\n",
    "         'system.mem_ctrl.numColdMisses',\n",
    "         'system.mem_ctrl.numHotMisses',\n",
    "         'system.mem_ctrl.numRdMissClean',\n",
    "         'system.mem_ctrl.numRdMissDirty',\n",
    "         'system.mem_ctrl.numRdHit',\n",
    "         'system.mem_ctrl.numWrMissClean',\n",
    "         'system.mem_ctrl.numWrMissDirty',\n",
    "         'system.mem_ctrl.numWrHit',\n",
    "         'system.mem_ctrl.numRdHitDirty',\n",
    "         'system.mem_ctrl.numRdHitClean',\n",
    "         'system.mem_ctrl.numWrHitDirty',\n",
    "         'system.mem_ctrl.numWrHitClean'\n",
    "          ]\n",
    "\n",
    "\n",
    "\n",
    "\n",
    "app = ['bt_C_x', 'cg_C_x', 'ep_C_x', 'is_C_x', 'lu_C_x', 'sp_C_x']\n",
    "time = ['2sec']\n",
    "size = ['128MiB']\n",
    "cache = ['DDR4']\n",
    "\n",
    "rows = []\n",
    "\n",
    "for a in app:\n",
    "    for t in time:\n",
    "        for s in size:\n",
    "            for c in cache:\n",
    "                stats = [a, t, s, c]\n",
    "                for stat in Stats:\n",
    "                    time_file_path = '{}/NPB/{}_{}_{}/{}/stats.txt'.format(datadir, t, s, c, a)\n",
    "                    ret_line = getStat(time_file_path,stat)\n",
    "\n",
    "                    if ret_line != 0:\n",
    "                        #if ret_line=='nan' :\n",
    "                        #    stat_val = 0\n",
    "                        #else:\n",
    "                        stat_val = ret_line.split()[1]\n",
    "                    else:\n",
    "                        stat_val = -1\n",
    "                    stats.append(stat_val)\n",
    "\n",
    "                rows.append(stats)\n",
    "\n",
    "#print(rows)\n",
    "df = pd.DataFrame(rows, columns=[\n",
    "         'app',\n",
    "         'time',\n",
    "         'size',\n",
    "         'cache',\n",
    "         'readReqs',\n",
    "         'writeReqs',\n",
    "         'servicedByWrQ',\n",
    "         'mergedWrBursts',\n",
    "         'numTotHits',\n",
    "         'numTotMisses',\n",
    "         'numColdMisses',\n",
    "         'numHotMisses',\n",
    "         'numRdMissClean',\n",
    "         'numRdMissDirty',\n",
    "         'numRdHit',\n",
    "         'numWrMissClean',\n",
    "         'numWrMissDirty',\n",
    "         'numWrHit',\n",
    "         'numRdHitDirty',\n",
    "         'numRdHitClean',\n",
    "         'numWrHitDirty',\n",
    "         'numWrHitClean'\n",
    "         ])\n",
    "\n",
    "\n",
    "\n",
    "\n",
    "\n",
    "# df.to_csv(\"/scr/babaie/policyBaselineRes/3rd/dramCacheController/myPlots/res_Oct_31/gapbs_ddr4_128_2sec.csv\")"
   ]
  },
  {
   "cell_type": "code",
   "execution_count": 2,
   "metadata": {},
   "outputs": [
    {
     "data": {
      "image/png": "[encoded data removed]",
      "text/plain": [
       "<Figure size 432x288 with 1 Axes>"
      ]
     },
     "metadata": {
      "needs_background": "light"
     },
     "output_type": "display_data"
    }
   ],
   "source": [
    "x = ['bt', 'cg', 'ep', 'is', 'lu', 'sp']\n",
    "\n",
    "y5 = df['numRdHitDirty'].astype(int)/1000000\n",
    "y6 = df['numRdHitClean'].astype(int)/1000000\n",
    "y7 = df['numWrHitDirty'].astype(int)/1000000\n",
    "y8 = df['numWrHitClean'].astype(int)/1000000\n",
    "\n",
    "# Multi bar Chart\n",
    "fig = plt.figure()\n",
    "fig.set_size_inches(6, 4)\n",
    "\n",
    "plt.ylim([0,25])\n",
    "\n",
    "plt.bar(x, y5, label = 'RdHitDirty')\n",
    "plt.bar(x, y6, bottom=y5, label = 'RdHitClean')\n",
    "plt.bar(x, y7, bottom=y5+y6, label = 'WrHitDirty')\n",
    "plt.bar(x, y8, bottom=y5+y6+y7, label = 'WrHitClean')\n",
    "\n",
    "plt.title(\"Distribution of Read/Write Hit Dirty/Clean\")\n",
    "plt.xlabel(\"Workloads\")\n",
    "plt.ylabel(\"Million Memory Request\")\n",
    "plt.legend()\n",
    "plt.show()"
   ]
  },
  {
   "cell_type": "code",
   "execution_count": 3,
   "metadata": {},
   "outputs": [
    {
     "data": {
      "image/png": "[encoded data removed]",
      "text/plain": [
       "<Figure size 432x288 with 1 Axes>"
      ]
     },
     "metadata": {
      "needs_background": "light"
     },
     "output_type": "display_data"
    }
   ],
   "source": [
    "x = ['bt', 'cg', 'ep', 'is', 'lu', 'sp']\n",
    "y1 = df['numRdMissClean'].astype(int)/1000000\n",
    "y2 = df['numRdMissDirty'].astype(int)/1000000\n",
    "y3 = df['numWrMissClean'].astype(int)/1000000\n",
    "y4 = df['numWrMissDirty'].astype(int)/1000000\n",
    "# y5 = df['numRdHitDirty'].astype(int)/1000\n",
    "# y6 = df['numRdHitClean'].astype(int)/1000\n",
    "# y7 = df['numWrHitDirty'].astype(int)/1000\n",
    "# y8 = df['numWrHitClean'].astype(int)/1000\n",
    "\n",
    "# Multi bar Chart\n",
    "fig = plt.figure()\n",
    "fig.set_size_inches(6, 4)\n",
    "\n",
    "plt.ylim([0,25])\n",
    "\n",
    "plt.bar(x, y1, label = 'RdMissClean')\n",
    "plt.bar(x, y2, bottom=y1, label = 'RdMissDirty')\n",
    "plt.bar(x, y3, bottom=y1+y2, label = 'WrMissClean')\n",
    "plt.bar(x, y4, bottom=y1+y2+y3, label = 'WrMissDirty')\n",
    "\n",
    "plt.title(\"Distribution of Read/Write Miss Dirty/Clean\")\n",
    "plt.xlabel(\"Workloads\")\n",
    "plt.ylabel(\"Million Memory Request\")\n",
    "plt.legend()\n",
    "plt.show()"
   ]
  }
 ],
 "metadata": {
  "kernelspec": {
   "display_name": "Python 3.8.10 64-bit",
   "language": "python",
   "name": "python3"
  },
  "language_info": {
   "codemirror_mode": {
    "name": "ipython",
    "version": 3
   },
   "file_extension": ".py",
   "mimetype": "text/x-python",
   "name": "python",
   "nbconvert_exporter": "python",
   "pygments_lexer": "ipython3",
   "version": "3.8.10"
  },
  "orig_nbformat": 4,
  "vscode": {
   "interpreter": {
    "hash": "e7370f93d1d0cde622a1f8e1c04877d8463912d04d973331ad4851f04de6915a"
   }
  }
 },
 "nbformat": 4,
 "nbformat_minor": 2
}
