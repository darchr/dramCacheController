{
 "cells": [
  {
   "cell_type": "markdown",
   "metadata": {},
   "source": [
    "These results are for HBM-stack DRAM cache (16 interface of 128-MB) backed-up by DDR4 memory (2 interface of 32-GB)."
   ]
  },
  {
   "cell_type": "code",
   "execution_count": 9,
   "metadata": {},
   "outputs": [],
   "source": [
    "import pandas as pd\n",
    "import numpy as np\n",
    "import sys\n",
    "from matplotlib import pyplot as plt\n",
    "\n",
    "import os\n",
    "\n",
    "datadir = '/scr/babaie/policyBaselineRes/results/alloy'\n",
    "\n",
    "\n",
    "def getStat(filename, stat):\n",
    "    filename = os.path.join(filename).replace('\\\\','/')\n",
    "    #print(stat)\n",
    "    #print(filename)\n",
    "    try:\n",
    "        with open(filename) as f:\n",
    "            readlines = f.readlines()\n",
    "            for l in readlines:\n",
    "                if stat in l:\n",
    "                    return l\n",
    "            return 0.0 #for cases where stat was not found\n",
    "    except: #for cases where the file was not found\n",
    "        return 0.0\n",
    "\n",
    "\n",
    "\n",
    "Stats = ['system.generator.numPackets',\n",
    "         'system.generator.avgReadLatency',\n",
    "         'system.generator.avgWriteLatency',\n",
    "         'system.generator.readBW',\n",
    "         'system.generator.writeBW'\n",
    "          ]\n",
    "\n",
    "\n",
    "\n",
    "\n",
    "hit_miss = ['Hit', 'MissClean', 'MissDirty']\n",
    "rd_perc = ['RO', 'R67', 'WO']\n",
    "des = ['2', 'Alloy']\n",
    "\n",
    "rows = []\n",
    "\n",
    "for d in des:\n",
    "    for rdPr in rd_perc:\n",
    "        for hm in hit_miss:\n",
    "            stats = [d, rdPr, hm]\n",
    "            for stat in Stats:\n",
    "                time_file_path = '{}/{}_{}_{}/stats.txt'.format(datadir, d, rdPr, hm)\n",
    "                ret_line = getStat(time_file_path,stat)\n",
    "\n",
    "                if ret_line != 0:\n",
    "                    #if ret_line=='nan' :\n",
    "                    #    stat_val = 0\n",
    "                    #else:\n",
    "                    stat_val = ret_line.split()[1]\n",
    "                else:\n",
    "                    stat_val = -1\n",
    "                stats.append(stat_val)\n",
    "\n",
    "            rows.append(stats)\n",
    "\n",
    "#print(rows)\n",
    "df = pd.DataFrame(rows, columns=[\n",
    "         'des',\n",
    "         'rdPr',\n",
    "         'hm',\n",
    "         'numPackets',\n",
    "         'avgReadLatency',\n",
    "         'avgWriteLatency',\n",
    "         'readBW',\n",
    "         'writeBW'\n",
    "         ])\n",
    "\n",
    "df['totBW'] = (df['readBW'].astype(float) + df['writeBW'].astype(float))/1000000000\n",
    "df['ARL'] = (df['avgReadLatency'].astype(float))/1000\n",
    "df['AWL'] = (df['avgWriteLatency'].astype(float))/1000\n",
    "df['ART'] = (df['ARL'].astype(float)*0.67 + df['AWL'].astype(float)*0.33)\n",
    "\n",
    "\n",
    "\n",
    "df.to_csv(\"/scr/babaie/policyBaselineRes/3rd/dramCacheController/myPlots/res_Sep_26/res_1.csv\")"
   ]
  },
  {
   "cell_type": "code",
   "execution_count": 29,
   "metadata": {},
   "outputs": [
    {
     "data": {
      "image/png": "[encoded data removed]",
      "text/plain": [
       "<Figure size 504x360 with 1 Axes>"
      ]
     },
     "metadata": {
      "needs_background": "light"
     },
     "output_type": "display_data"
    }
   ],
   "source": [
    "x = ['RO', 'R67', 'WO']\n",
    "df_temp = df.query('(des==[\"2\"]) and (hm==[\"Hit\"])')[['totBW']]\n",
    "y2 = df_temp['totBW']\n",
    "df_temp = df.query('(des==[\"Alloy\"]) and (hm==[\"Hit\"])')[['totBW']]\n",
    "y3 = df_temp['totBW']\n",
    "\n",
    "x_axis = np.arange(len(x))\n",
    "\n",
    "# Multi bar Chart\n",
    "fig = plt.figure()\n",
    "fig.set_size_inches(7, 5)\n",
    "\n",
    "plt.bar(x_axis -0.2, y2, width=0.4, label = 'DDR4')\n",
    "plt.bar(x_axis +0.2, y3, width=0.4, label = 'Alloy')\n",
    "\n",
    "# Xticks\n",
    "\n",
    "plt.xticks(x_axis, x)\n",
    "\n",
    "# Add legend\n",
    "\n",
    "plt.legend()\n",
    "\n",
    "# Display\n",
    "\n",
    "plt.title(\"All Hit\")\n",
    "plt.xlabel(\"Read/Write Percentage\")\n",
    "plt.ylabel(\"Observed BW by Requestor (GB/s)\")\n",
    "plt.legend()\n",
    "plt.show()"
   ]
  },
  {
   "cell_type": "code",
   "execution_count": 30,
   "metadata": {},
   "outputs": [
    {
     "data": {
      "image/png": "[encoded data removed]",
      "text/plain": [
       "<Figure size 504x360 with 1 Axes>"
      ]
     },
     "metadata": {
      "needs_background": "light"
     },
     "output_type": "display_data"
    }
   ],
   "source": [
    "x = ['RO', 'R67', 'WO']\n",
    "df_temp = df.query('(des==[\"2\"]) and (hm==[\"MissClean\"])')[['totBW']]\n",
    "y2 = df_temp['totBW']\n",
    "df_temp = df.query('(des==[\"Alloy\"]) and (hm==[\"MissClean\"])')[['totBW']]\n",
    "y3 = df_temp['totBW']\n",
    "\n",
    "x_axis = np.arange(len(x))\n",
    "\n",
    "# Multi bar Chart\n",
    "fig = plt.figure()\n",
    "fig.set_size_inches(7, 5)\n",
    "\n",
    "plt.bar(x_axis -0.2, y2, width=0.4, label = 'DDR4')\n",
    "plt.bar(x_axis +0.2, y3, width=0.4, label = 'Alloy')\n",
    "\n",
    "# Xticks\n",
    "\n",
    "plt.xticks(x_axis, x)\n",
    "\n",
    "# Add legend\n",
    "\n",
    "plt.legend()\n",
    "\n",
    "# Display\n",
    "\n",
    "plt.title(\"All Miss-Clean\")\n",
    "plt.xlabel(\"Read/Write Percentage\")\n",
    "plt.ylabel(\"Observed BW by Requestor (GB/s)\")\n",
    "plt.legend()\n",
    "plt.show()"
   ]
  },
  {
   "cell_type": "code",
   "execution_count": 13,
   "metadata": {},
   "outputs": [
    {
     "data": {
      "image/png": "[encoded data removed]",
      "text/plain": [
       "<Figure size 432x288 with 1 Axes>"
      ]
     },
     "metadata": {
      "needs_background": "light"
     },
     "output_type": "display_data"
    }
   ],
   "source": [
    "x = ['RO', 'R67', 'WO']\n",
    "df_temp = df.query('(des==[\"2\"]) and (hm==[\"MissDirty\"])')[['totBW']]\n",
    "y2 = df_temp['totBW']\n",
    "df_temp = df.query('(des==[\"Alloy\"]) and (hm==[\"MissDirty\"])')[['totBW']]\n",
    "y3 = df_temp['totBW']\n",
    "\n",
    "x_axis = np.arange(len(x))\n",
    "\n",
    "# Multi bar Chart\n",
    "fig = plt.figure()\n",
    "fig.set_size_inches(7, 5)\n",
    "\n",
    "plt.bar(x_axis -0.2, y2, width=0.4, label = 'DDR4')\n",
    "plt.bar(x_axis +0.2, y3, width=0.4, label = 'Alloy')\n",
    "\n",
    "# Xticks\n",
    "\n",
    "plt.xticks(x_axis, x)\n",
    "\n",
    "# Add legend\n",
    "\n",
    "plt.legend()\n",
    "\n",
    "# Display\n",
    "\n",
    "plt.title(\"All Miss-Dirty\")\n",
    "plt.xlabel(\"Read/Write Percentage\")\n",
    "plt.ylabel(\"Observed BW by Requestor (GB/s)\")\n",
    "plt.legend()\n",
    "plt.show()"
   ]
  }
 ],
 "metadata": {
  "kernelspec": {
   "display_name": "Python 3.8.10 64-bit",
   "language": "python",
   "name": "python3"
  },
  "language_info": {
   "codemirror_mode": {
    "name": "ipython",
    "version": 3
   },
   "file_extension": ".py",
   "mimetype": "text/x-python",
   "name": "python",
   "nbconvert_exporter": "python",
   "pygments_lexer": "ipython3",
   "version": "3.8.10"
  },
  "orig_nbformat": 4,
  "vscode": {
   "interpreter": {
    "hash": "e7370f93d1d0cde622a1f8e1c04877d8463912d04d973331ad4851f04de6915a"
   }
  }
 },
 "nbformat": 4,
 "nbformat_minor": 2
}
